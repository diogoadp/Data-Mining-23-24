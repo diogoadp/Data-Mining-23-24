{
 "cells": [
  {
   "cell_type": "markdown",
   "id": "01f2b10f-7112-4ca1-86e0-52e26a714b73",
   "metadata": {},
   "source": [
    "# Test if packages were installed correctly"
   ]
  },
  {
   "cell_type": "markdown",
   "id": "9f021ee7",
   "metadata": {},
   "source": [
    "## Basic packages"
   ]
  },
  {
   "cell_type": "code",
   "execution_count": null,
   "id": "2135014f-5baa-422a-aeaf-b286dbb0fe4a",
   "metadata": {},
   "outputs": [],
   "source": [
    "import os\n",
    "import sqlite3\n",
    "from math import ceil\n"
   ]
  },
  {
   "cell_type": "markdown",
   "id": "aba5cd61-1e1e-42a4-a3b4-83b5a2046907",
   "metadata": {},
   "source": [
    "## Pandas, Matplotlib, Seaborn, Scikit-Learn"
   ]
  },
  {
   "cell_type": "code",
   "execution_count": null,
   "id": "91521f4b-666f-4a8f-b3ad-d0928546b753",
   "metadata": {},
   "outputs": [],
   "source": [
    "import numpy as np\n",
    "import pandas as pd"
   ]
  },
  {
   "cell_type": "code",
   "execution_count": null,
   "id": "9d476d62-780e-43b5-b18e-0cee7cce2e20",
   "metadata": {},
   "outputs": [],
   "source": [
    "import matplotlib.pyplot as plt\n",
    "import seaborn as sns\n",
    "\n",
    "%matplotlib inline\n",
    "\n",
    "# for better resolution plots\n",
    "%config InlineBackend.figure_format = 'retina' \n",
    "\n",
    "# Setting seaborn style\n",
    "sns.set()"
   ]
  },
  {
   "cell_type": "code",
   "execution_count": null,
   "id": "66276c2e-bda3-46fe-ba47-aaeffa946257",
   "metadata": {},
   "outputs": [],
   "source": [
    "from matplotlib import __version__ as mplver\n",
    "print(mplver)"
   ]
  },
  {
   "cell_type": "code",
   "execution_count": null,
   "id": "cea525de-0b4a-47a6-8956-0178a2971e01",
   "metadata": {},
   "outputs": [],
   "source": [
    "import warnings\n",
    "warnings.filterwarnings('ignore')\n",
    "\n",
    "import logging\n",
    "logging.getLogger('matplotlib').setLevel(logging.WARNING)\n",
    "logger = logging.getLogger()\n",
    "logger.setLevel(logging.ERROR)"
   ]
  },
  {
   "cell_type": "code",
   "execution_count": null,
   "id": "f3d15e9c-9587-4f4b-a767-6b9f65d87911",
   "metadata": {},
   "outputs": [],
   "source": [
    "from sklearn import datasets"
   ]
  },
  {
   "cell_type": "code",
   "execution_count": null,
   "id": "f8f7ea14-4d73-47bb-9c00-6bcdb8447f09",
   "metadata": {},
   "outputs": [],
   "source": [
    "dataset = datasets.load_iris()\n",
    "df = pd.DataFrame(dataset.data, columns=dataset.feature_names)\n",
    "df.head()\n"
   ]
  },
  {
   "cell_type": "code",
   "execution_count": null,
   "id": "588b9d0d-3c28-46e2-ba83-272cf0a36ea0",
   "metadata": {},
   "outputs": [],
   "source": [
    "plt.scatter(df.iloc[:,0],df.iloc[:,1])\n",
    "plt.show()"
   ]
  },
  {
   "cell_type": "code",
   "execution_count": null,
   "id": "15a6c0dc-09ce-4996-a713-c500be901abb",
   "metadata": {},
   "outputs": [],
   "source": [
    "sns.scatterplot(df, x='petal length (cm)', y='petal width (cm)')"
   ]
  },
  {
   "cell_type": "markdown",
   "id": "5a0ff5bc-e1c5-45b8-9881-f71cef5e57c8",
   "metadata": {},
   "source": [
    "## Test ProfileReport"
   ]
  },
  {
   "cell_type": "code",
   "execution_count": null,
   "id": "f34a2ac0",
   "metadata": {},
   "outputs": [],
   "source": [
    "from ydata_profiling import ProfileReport"
   ]
  },
  {
   "cell_type": "code",
   "execution_count": null,
   "id": "32ac305e-dfdd-430b-82bc-94e13797f2b1",
   "metadata": {},
   "outputs": [],
   "source": [
    "profile = ProfileReport(\n",
    "    df, \n",
    "    title='Iris Data',\n",
    "    correlations={\n",
    "        \"pearson\": {\"calculate\": True},\n",
    "        \"spearman\": {\"calculate\": False},\n",
    "        \"kendall\": {\"calculate\": False},\n",
    "        \"phi_k\": {\"calculate\": False},\n",
    "        \"cramers\": {\"calculate\": False},\n",
    "    },\n",
    ")"
   ]
  },
  {
   "cell_type": "code",
   "execution_count": null,
   "id": "92d6b87b-b8b0-4919-9ba9-925a1f9ab627",
   "metadata": {},
   "outputs": [],
   "source": [
    "profile.to_notebook_iframe()\n"
   ]
  },
  {
   "cell_type": "markdown",
   "id": "5332461c-30a2-457f-b392-0bbe89dc4a5f",
   "metadata": {},
   "source": [
    "## Test Packages for SOM"
   ]
  },
  {
   "cell_type": "code",
   "execution_count": null,
   "id": "47b73f5d-5cbb-4e54-b14e-8c456b2074be",
   "metadata": {},
   "outputs": [],
   "source": [
    "from IPython.display import YouTubeVideo\n",
    "import minisom"
   ]
  },
  {
   "cell_type": "code",
   "execution_count": null,
   "id": "accd3450-2584-4b6a-964d-b605a1cf17d1",
   "metadata": {},
   "outputs": [],
   "source": [
    "import sompy\n",
    "from sompy.visualization.mapview import View2D\n",
    "from sompy.visualization.bmuhits import BmuHitsView\n",
    "from sompy.visualization.hitmap import HitMapView"
   ]
  },
  {
   "cell_type": "code",
   "execution_count": null,
   "id": "fcaa1446-0318-42c7-8f09-7d8ab9c44960",
   "metadata": {},
   "outputs": [],
   "source": [
    "# This som implementation does not have a random seed parameter\n",
    "# We're going to set it up ourselves\n",
    "np.random.seed(42)\n",
    "\n",
    "sm = sompy.SOMFactory().build(\n",
    "    df.values, \n",
    "    mapsize=[8, 16],  # NEEDS TO BE A LIST\n",
    "    initialization='random', \n",
    "    neighborhood='gaussian',\n",
    "    training='batch',\n",
    "    lattice='hexa',\n",
    "    component_names=dataset.feature_names\n",
    ")\n",
    "sm.train(n_job=4, verbose='info', train_rough_len=50, train_finetune_len=50)"
   ]
  },
  {
   "cell_type": "code",
   "execution_count": null,
   "id": "a47765ec-902b-4b63-8f16-557ee1bf100e",
   "metadata": {},
   "outputs": [],
   "source": [
    "plt.rcParams['figure.dpi'] = 48\n",
    "\n",
    "sns.set()\n",
    "view2D = View2D(8, 16, \"\", text_size=10)\n",
    "view2D.show(sm, col_sz=2, what='codebook')\n",
    "\n",
    "plt.show()"
   ]
  },
  {
   "cell_type": "code",
   "execution_count": null,
   "id": "e6432592-f574-4e82-981a-2bcbaa876665",
   "metadata": {},
   "outputs": [],
   "source": [
    "u = sompy.umatrix.UMatrixView(9, 9, 'umatrix', show_axis=True, text_size=8, show_text=True)\n",
    "\n",
    "UMAT = u.show(\n",
    "    sm, \n",
    "    distance=3,\n",
    ")"
   ]
  },
  {
   "cell_type": "code",
   "execution_count": null,
   "id": "6d2e868a-66ad-4acd-9c70-166a33993f79",
   "metadata": {},
   "outputs": [],
   "source": [
    "vhts  = BmuHitsView(12,12,\"Hits Map\")\n",
    "vhts.show(sm, anotate=True, onlyzeros=False, labelsize=12, cmap=\"Blues\")\n",
    "plt.show()"
   ]
  },
  {
   "cell_type": "markdown",
   "id": "cc90d9d6-d9e3-493b-9de3-2ebdf6c86e3a",
   "metadata": {},
   "source": [
    "## Test Graphviz"
   ]
  },
  {
   "cell_type": "code",
   "execution_count": null,
   "id": "38832bf4",
   "metadata": {},
   "outputs": [],
   "source": [
    "import graphviz"
   ]
  },
  {
   "cell_type": "code",
   "execution_count": null,
   "id": "5152a3df-b84e-40b5-880f-2c3aac550e5d",
   "metadata": {},
   "outputs": [],
   "source": [
    "from sklearn.cluster import KMeans\n",
    "from sklearn.tree import DecisionTreeClassifier, export_graphviz\n",
    "from sklearn.model_selection import train_test_split\n"
   ]
  },
  {
   "cell_type": "code",
   "execution_count": null,
   "id": "3acd2ce3-f693-4ee5-8312-4cf5b002544a",
   "metadata": {},
   "outputs": [],
   "source": [
    "kmclust = KMeans(n_clusters=3, init='random', n_init=10, random_state=1)\n",
    "km_labels = kmclust.fit_predict(df)"
   ]
  },
  {
   "cell_type": "code",
   "execution_count": null,
   "id": "8ea7a412-1a46-4975-accf-96abb0c9a8c7",
   "metadata": {},
   "outputs": [],
   "source": [
    "# Preparing the data\n",
    "X = df\n",
    "y = km_labels\n",
    "\n",
    "# Splitting the data\n",
    "X_train, X_test, y_train, y_test = train_test_split(\n",
    "    X, y, test_size=0.2, random_state=42\n",
    ")\n",
    "\n",
    "# Fitting the decision tree\n",
    "dt = DecisionTreeClassifier(random_state=42, max_depth=3)\n",
    "dt.fit(X_train, y_train)\n"
   ]
  },
  {
   "cell_type": "code",
   "execution_count": null,
   "id": "01259ee3-934e-41d1-bcea-d5e2a4f656c7",
   "metadata": {},
   "outputs": [],
   "source": [
    "# Visualizing the decision tree\n",
    "dot_data = export_graphviz(dt, out_file=None, \n",
    "                           feature_names=X.columns.to_list(),\n",
    "                           filled=True,\n",
    "                           rounded=True,\n",
    "                           special_characters=True)  \n",
    "graphviz.Source(dot_data)"
   ]
  },
  {
   "cell_type": "code",
   "execution_count": null,
   "id": "8d0dc7ff-c8b9-4fe2-aa90-09d22be52f27",
   "metadata": {},
   "outputs": [],
   "source": []
  }
 ],
 "metadata": {
  "kernelspec": {
   "display_name": "Python 3 (ipykernel)",
   "language": "python",
   "name": "python3"
  },
  "language_info": {
   "codemirror_mode": {
    "name": "ipython",
    "version": 3
   },
   "file_extension": ".py",
   "mimetype": "text/x-python",
   "name": "python",
   "nbconvert_exporter": "python",
   "pygments_lexer": "ipython3",
   "version": "3.11.5"
  }
 },
 "nbformat": 4,
 "nbformat_minor": 5
}
